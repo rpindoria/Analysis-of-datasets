{
  "nbformat": 4,
  "nbformat_minor": 0,
  "metadata": {
    "colab": {
      "name": "PieChartExample2.ipynb",
      "provenance": [],
      "authorship_tag": "ABX9TyM8o1ftTTsOykVtq/Z94Uku",
      "include_colab_link": true
    },
    "kernelspec": {
      "name": "python3",
      "display_name": "Python 3"
    }
  },
  "cells": [
    {
      "cell_type": "markdown",
      "metadata": {
        "id": "view-in-github",
        "colab_type": "text"
      },
      "source": [
        "<a href=\"https://colab.research.google.com/github/rpindoria/Analysis-of-datasets/blob/master/PieChartExample2.ipynb\" target=\"_parent\"><img src=\"https://colab.research.google.com/assets/colab-badge.svg\" alt=\"Open In Colab\"/></a>"
      ]
    },
    {
      "cell_type": "code",
      "metadata": {
        "id": "ZS6AAtb0ksqy",
        "colab_type": "code",
        "colab": {
          "base_uri": "https://localhost:8080/",
          "height": 317
        },
        "outputId": "2c796777-5cea-49f7-d122-fcb6f3aac764"
      },
      "source": [
        "#Ref: teaching data science - University of Glasgow\n",
        "#We will try drawing a pie chart to show our daily ice cream sales.\n",
        "#The area of each segment of the pie indicates the proportion of that flavour in the total ice cream sales.\n",
        "#Note we have to import the existing matplotlib library code to generate our pie chart.\n",
        "\n",
        "# This is a comment - which is ignored by the program\n",
        "# We can write explanations in our comment lines\n",
        "# All comment lines start with a # character marker\n",
        "\n",
        "print('Welcome to healthy ice cream shop')\n",
        "\n",
        "# here are the counts of today's ice cream sales\n",
        "# broken down by flavour\n",
        "num_strawberry = 100\n",
        "num_chocolate = 25\n",
        "num_vanilla = 25\n",
        "num_kulfi = 35\n",
        "num_kulfo = 15\n",
        "# how many ice creams did we sell altogether?\n",
        "\n",
        "total = sum ( [num_strawberry, num_chocolate, num_vanilla, num_kulfi, num_kulfo] )\n",
        "\n",
        "print('Today we sold a total of ')\n",
        "print(total)\n",
        "print('ice creams')\n",
        "\n",
        "#let's try drawing a pie chart to show our daily ice cream sales.\n",
        "# The area of each segment of the pie indicates the proportion of that flavour\n",
        "# in the total ice cream sales. \n",
        "#Note we have to import the existing matplotlib library code to generate our pie chart.\n",
        "\n",
        "\n",
        "import matplotlib.pyplot as plt\n",
        "\n",
        "plt.pie( [num_strawberry, num_chocolate, num_vanilla, num_kulfi, num_kulfo], \n",
        "         labels=['strawberry', 'chocolate', 'vanilla','kulfi', 'kulfo'], \n",
        "         colors = ['pink', 'brown', 'yellow','black', 'red'] )\n",
        "\n",
        "plt.show()\n"
      ],
      "execution_count": 10,
      "outputs": [
        {
          "output_type": "stream",
          "text": [
            "Welcome to healthy ice cream shop\n",
            "Today we sold a total of \n",
            "200\n",
            "ice creams\n"
          ],
          "name": "stdout"
        },
        {
          "output_type": "display_data",
          "data": {
            "image/png": "[encoded data removed]",
            "text/plain": [
              "<Figure size 432x288 with 1 Axes>"
            ]
          },
          "metadata": {
            "tags": []
          }
        }
      ]
    }
  ]
}